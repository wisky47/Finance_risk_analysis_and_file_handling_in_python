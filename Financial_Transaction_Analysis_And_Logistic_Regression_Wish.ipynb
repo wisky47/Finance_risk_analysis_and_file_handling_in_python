{
 "cells": [
  {
   "cell_type": "code",
   "execution_count": 1,
   "id": "b2d49016",
   "metadata": {},
   "outputs": [],
   "source": [
    "# Flow for execution\n",
    "# load file one by one until all complete (total 6 files for example)\n",
    "# Intermediate result file generated as per yearly quarters\n",
    "# once load complete for all file\n",
    "# load intermediate result 1 to proceed further (4 intermediate files)\n",
    "# analysis part see comments for details (used wolfsberg-principles)\n",
    "# used aggregate and group by\n",
    "# uploading the result table/dataframe below the generated data \n",
    "# (data already exists in intermediate result each summary/ reuslt added below it)\n",
    "# open final result file Quarter<n> , <n> : 1, 2, 3, 4 \n",
    "# complete similarly for all Quarter<n> files"
   ]
  },
  {
   "cell_type": "code",
   "execution_count": 2,
   "id": "175dfee4",
   "metadata": {},
   "outputs": [],
   "source": [
    "# author : Wish mkn\n",
    "\n",
    "import pandas as pd\n",
    "import numpy as np\n",
    "import datetime as dt\n",
    "from pathlib import Path\n",
    "import pandasql as ps\n",
    "import collections \n",
    "import matplotlib.pyplot as plt\n",
    "import seaborn as sns\n",
    "from sklearn.model_selection import train_test_split\n",
    "from sklearn.linear_model import LogisticRegression\n",
    "from sklearn import metrics\n",
    "from csv import writer\n",
    "\n",
    "import os\n",
    "cwd = os.getcwd()\n",
    "\n",
    "# print(cwd) get path of current dir where files stored as of now.\n",
    "# for it to work store files in cwd "
   ]
  },
  {
   "cell_type": "code",
   "execution_count": 3,
   "id": "457eba31",
   "metadata": {},
   "outputs": [],
   "source": [
    "root = cwd\n",
    "path = os.path.join(root, \"targetdirectory\")\n",
    "str1 = \".xlsx\" \n",
    "name_xls = []\n",
    "path_xls = []\n",
    "\n",
    "# get path and existitng file names to work on\n",
    "#\n",
    "for path, subdirs, files in os.walk(root): # will get all file name ending with .csv\n",
    "    for name in files:\n",
    "        if(str1 in os.path.join(name)):\n",
    "            name_xls.append(os.path.join(name))\n",
    "            path_xls.append(os.path.join(path))"
   ]
  },
  {
   "cell_type": "code",
   "execution_count": 4,
   "id": "e8a0d16d",
   "metadata": {},
   "outputs": [],
   "source": [
    "print(name_CSV) # see file position in list."
   ]
  },
  {
   "cell_type": "code",
   "execution_count": 63,
   "id": "9ad6e61e",
   "metadata": {},
   "outputs": [
    {
     "name": "stdout",
     "output_type": "stream",
     "text": [
      "Enter File Number Based on position in List : 5\n"
     ]
    }
   ],
   "source": [
    "# STEP - 2\n",
    "#\n",
    "#\n",
    "#\n",
    "\n",
    "\n",
    "choice = int(input(\"Enter File Number Based on position in List : \")) \n",
    "\n",
    "# enter (number - 1) of file  you want to use if you want to choose eg. file 1 of 6 then enter 0\n",
    "# dont select file names with result name and directly. As first it is required to generate them."
   ]
  },
  {
   "cell_type": "code",
   "execution_count": 64,
   "id": "7a33ebef",
   "metadata": {},
   "outputs": [
    {
     "data": {
      "text/plain": [
       "'Q3_2021_2BANKXXXX_transactions_output.csv'"
      ]
     },
     "execution_count": 64,
     "metadata": {},
     "output_type": "execute_result"
    }
   ],
   "source": [
    "name_CSV[choice]  \n",
    "\n",
    "#see name of selected file"
   ]
  },
  {
   "cell_type": "code",
   "execution_count": 65,
   "id": "0f446ebf",
   "metadata": {},
   "outputs": [],
   "source": [
    "current_data = pd.read_csv(path_CSV[choice] + \"\\\\\" + name_CSV[choice]) \n",
    "\n",
    "#load only one file in memory Constraint"
   ]
  },
  {
   "cell_type": "code",
   "execution_count": 66,
   "id": "e1026879",
   "metadata": {},
   "outputs": [],
   "source": [
    "check = current_data['transaction_date']"
   ]
  },
  {
   "cell_type": "code",
   "execution_count": 67,
   "id": "e43b1ad2",
   "metadata": {},
   "outputs": [],
   "source": [
    "current_data['check_date'] = check  # added duplicated column to use further"
   ]
  },
  {
   "cell_type": "code",
   "execution_count": 68,
   "id": "64e15e88",
   "metadata": {},
   "outputs": [
    {
     "name": "stderr",
     "output_type": "stream",
     "text": [
      "C:\\Users\\Wish\\anaconda3\\lib\\site-packages\\pandas\\core\\arrays\\datetimes.py:1101: UserWarning: Converting to PeriodArray/Index representation will drop timezone information.\n",
      "  warnings.warn(\n"
     ]
    }
   ],
   "source": [
    "current_data['check_date'] = pd.DatetimeIndex(current_data.transaction_date).to_period(\"D\")\n",
    "\n",
    "# date change format to divide into 4 result files (4 quarters)"
   ]
  },
  {
   "cell_type": "code",
   "execution_count": 69,
   "id": "3c05b2ab",
   "metadata": {},
   "outputs": [],
   "source": [
    "current_data['check_date'] = current_data['check_date'].dt.to_timestamp()"
   ]
  },
  {
   "cell_type": "code",
   "execution_count": 71,
   "id": "ca980390",
   "metadata": {},
   "outputs": [
    {
     "name": "stdout",
     "output_type": "stream",
     "text": [
      "2021-07-01 00:00:00 2021-07-30 00:00:00\n"
     ]
    }
   ],
   "source": [
    "# check what is max date and min date. Created if statements based on this below.\n",
    "print(current_data.check_date.min() , current_data.check_date.max())"
   ]
  },
  {
   "cell_type": "code",
   "execution_count": 72,
   "id": "ff42e103",
   "metadata": {},
   "outputs": [],
   "source": [
    "# path to create new files for generating csv Result\n",
    "\n",
    "path_Q1 = cwd + '\\\\Result\\\\Quarter1.csv'\n",
    "path_Q2 = cwd + '\\\\Result\\\\Quarter2.csv'\n",
    "path_Q3 = cwd + '\\\\Result\\\\Quarter3.csv'\n",
    "path_Q4 = cwd + '\\\\Result\\\\Quarter4.csv'\n",
    "\n",
    "path_res1 = Path(path_Q1)\n",
    "path_res2 = Path(path_Q2)\n",
    "path_res3 = Path(path_Q3)\n",
    "path_res4 = Path(path_Q4)"
   ]
  },
  {
   "cell_type": "code",
   "execution_count": 73,
   "id": "9138cccd",
   "metadata": {},
   "outputs": [],
   "source": [
    "# read the loaded file and then write content to appropriate quarter file based on dates\n",
    "\n",
    "for i, j in current_data.iterrows():\n",
    "    if ( j.values[-1] >= dt.date(2021,1,1) and j.values[-1] <= dt.date(2021,3,31)): #Q1\n",
    "        if (os.path.isfile(path_Q1)):\n",
    "            current_data.loc[[i]].to_csv(path_Q1, mode = 'a', index = False, header = False)\n",
    "        else:\n",
    "            current_data.loc[[i]].to_csv(path_Q1, index = False, header = True)\n",
    "            \n",
    "    if ( j.values[-1] >= dt.date(2021,4,1) and j.values[-1] <= dt.date(2021,6,30)): #Q2\n",
    "        if (os.path.isfile(path_Q2)):\n",
    "            current_data.loc[[i]].to_csv(path_Q2, mode = 'a', index = False, header = False)\n",
    "        else:\n",
    "            current_data.loc[[i]].to_csv(path_Q2, index = False, header = True)\n",
    "            \n",
    "    if ( j.values[-1] >= dt.date(2021,7,1) and j.values[-1] <= dt.date(2021,9,30)): #Q3\n",
    "        if (os.path.isfile(path_Q3)):\n",
    "            current_data.loc[[i]].to_csv(path_Q3, mode = 'a', index = False, header = False)\n",
    "        else:\n",
    "            current_data.loc[[i]].to_csv(path_Q3, index = False, header = True)\n",
    "            \n",
    "    if ( j.values[-1] >= dt.date(2021,10,1) and j.values[-1] <= dt.date(2021,12,31)): #Q4\n",
    "        if (os.path.isfile(path_Q4)):\n",
    "            current_data.loc[[i]].to_csv(path_Q4, mode = 'a', index = False, header = False)\n",
    "        else:\n",
    "            current_data.loc[[i]].to_csv(path_Q4, index = False, header = True)"
   ]
  },
  {
   "cell_type": "code",
   "execution_count": null,
   "id": "1198a05a",
   "metadata": {},
   "outputs": [],
   "source": [
    "del current_data  \n",
    "\n",
    "# removes the data frame after operation is complete. \n",
    "# so you can add new file in memory"
   ]
  },
  {
   "cell_type": "code",
   "execution_count": null,
   "id": "83450f12",
   "metadata": {},
   "outputs": [],
   "source": [
    "# ---- End of file generation As per each quarter... GO TO STEP 2 Till you finish uploading all files one by one.\n",
    "# ---- Go to comment STEP 2 \n",
    "# once all files are done with then proceed. \n",
    "# this finishes intermediate result generation\n",
    "#"
   ]
  },
  {
   "cell_type": "code",
   "execution_count": 145,
   "id": "738de963",
   "metadata": {},
   "outputs": [],
   "source": [
    "#\n",
    "#\n",
    "#\n"
   ]
  },
  {
   "cell_type": "code",
   "execution_count": 2,
   "id": "e053551c",
   "metadata": {},
   "outputs": [],
   "source": [
    "root_res = cwd\n",
    "path_res = os.path.join(root_res, \"targetdirectory\")\n",
    "str2 = \"Quarter\"\n",
    "name_CSV_1 = []\n",
    "path_CSV_1 = []\n",
    "\n",
    "# get path and existitng file names to work on\n",
    "#\n",
    "for path, subdirs, files in os.walk(root_res):\n",
    "    for name in files:\n",
    "        if(str2 in os.path.join(name)):\n",
    "            name_CSV_1.append(os.path.join(name))\n",
    "            path_CSV_1.append(os.path.join(path))"
   ]
  },
  {
   "cell_type": "code",
   "execution_count": 3,
   "id": "dbe519a5",
   "metadata": {},
   "outputs": [
    {
     "data": {
      "text/plain": [
       "['Quarter1.csv', 'Quarter2.csv', 'Quarter3.csv']"
      ]
     },
     "execution_count": 3,
     "metadata": {},
     "output_type": "execute_result"
    }
   ],
   "source": [
    "name_CSV_1 # display csv files that have been added."
   ]
  },
  {
   "cell_type": "code",
   "execution_count": 4,
   "id": "031a85be",
   "metadata": {},
   "outputs": [
    {
     "name": "stdout",
     "output_type": "stream",
     "text": [
      "Enter File Number Based on position in List : 0\n"
     ]
    }
   ],
   "source": [
    "# enter csv to load and use for analysis. eg: file pos 1, input  = 0 {zero in digit}\n",
    "\n",
    "choice1 = int(input(\"Enter File Number Based on position in List : \")) \n",
    "\n",
    "# number to enter should be ( number - 1)"
   ]
  },
  {
   "cell_type": "code",
   "execution_count": 5,
   "id": "681f4913",
   "metadata": {},
   "outputs": [
    {
     "data": {
      "text/plain": [
       "'Quarter1.csv'"
      ]
     },
     "execution_count": 5,
     "metadata": {},
     "output_type": "execute_result"
    }
   ],
   "source": [
    "name_CSV_1[choice1]  # see selected file"
   ]
  },
  {
   "cell_type": "code",
   "execution_count": 10,
   "id": "bf0defcc",
   "metadata": {},
   "outputs": [],
   "source": [
    "res_data = pd.read_csv(path_CSV_1[choice1] + \"\\\\\" + name_CSV_1[choice1]) #loading data [1 file at a time]"
   ]
  },
  {
   "cell_type": "code",
   "execution_count": 11,
   "id": "d63102db",
   "metadata": {},
   "outputs": [],
   "source": [
    "q2 = \"\"\"\n",
    "SELECT originator_full_name, beneficiary_full_name, originator_address, beneficiary_address, originator_account_number, beneficiary_account_number, originator_country, beneficiary_country, originator_bic, beneficiary_bic, SUM(converted_transaction_amount) as amount, converted_transaction_currency, transaction_id, check_date as transaction_date \n",
    "from res_data \n",
    "group by transaction_id\n",
    "\"\"\"\n",
    "# query to run and get those fields only"
   ]
  },
  {
   "cell_type": "code",
   "execution_count": 12,
   "id": "eff9b748",
   "metadata": {},
   "outputs": [],
   "source": [
    "res_data1 = pd.DataFrame(ps.sqldf(q2,locals())) # run query to get \n",
    "\n",
    "del res_data # deleting after using\n"
   ]
  },
  {
   "cell_type": "code",
   "execution_count": 13,
   "id": "15ea4f41",
   "metadata": {},
   "outputs": [],
   "source": [
    "res_data1['transaction_date'] = pd.DatetimeIndex(res_data1.transaction_date).to_period(\"M\") # date format change to use for \n",
    "                                                                                            # group by below.\n",
    "res_data1['transaction_date'] = res_data1['transaction_date'].dt.to_timestamp()  "
   ]
  },
  {
   "cell_type": "code",
   "execution_count": 14,
   "id": "f26eb8ff",
   "metadata": {},
   "outputs": [
    {
     "name": "stdout",
     "output_type": "stream",
     "text": [
      "SUM OF Quarter by month --  transaction_date\n",
      "2021-01      302128.63\n",
      "2021-02    91849270.57\n",
      "2021-03      150734.99\n",
      "Freq: M, Name: amount, dtype: float64\n",
      "MEDIAN OF Quarter by month --  transaction_date\n",
      "2021-01    27213.740\n",
      "2021-02     1500.000\n",
      "2021-03    19676.305\n",
      "Freq: M, Name: amount, dtype: float64\n",
      "MIN OF Quarter by month --  transaction_date\n",
      "2021-01    1052.21\n",
      "2021-02       0.16\n",
      "2021-03     500.00\n",
      "Freq: M, Name: amount, dtype: float64\n",
      "MAX OF Quarter by month --  transaction_date\n",
      "2021-01     241464.73\n",
      "2021-02    8657828.00\n",
      "2021-03     110882.38\n",
      "Freq: M, Name: amount, dtype: float64\n"
     ]
    }
   ],
   "source": [
    "# Data for Selected File\n",
    "quarter_sum = res_data1.groupby(res_data1['transaction_date'].dt.to_period(\"M\"))['amount'].sum()\n",
    "quarter_median = res_data1.groupby(res_data1['transaction_date'].dt.to_period(\"M\"))['amount'].median()\n",
    "quarter_min = res_data1.groupby(res_data1['transaction_date'].dt.to_period(\"M\"))['amount'].min()\n",
    "quarter_max = res_data1.groupby(res_data1['transaction_date'].dt.to_period(\"M\"))['amount'].max()\n",
    "# see sum of transactions for each month\n",
    "\n",
    "print('SUM OF Quarter by month -- ',quarter_sum)\n",
    "print('MEDIAN OF Quarter by month -- ',quarter_median)\n",
    "print('MIN OF Quarter by month -- ',quarter_min)\n",
    "print('MAX OF Quarter by month -- ',quarter_max)\n",
    "\n",
    "# get idea of total sum of transaction in that month for the selected quarter file"
   ]
  },
  {
   "cell_type": "code",
   "execution_count": 15,
   "id": "84ef9a8e",
   "metadata": {},
   "outputs": [
    {
     "data": {
      "text/html": [
       "<div>\n",
       "<style scoped>\n",
       "    .dataframe tbody tr th:only-of-type {\n",
       "        vertical-align: middle;\n",
       "    }\n",
       "\n",
       "    .dataframe tbody tr th {\n",
       "        vertical-align: top;\n",
       "    }\n",
       "\n",
       "    .dataframe thead th {\n",
       "        text-align: right;\n",
       "    }\n",
       "</style>\n",
       "<table border=\"1\" class=\"dataframe\">\n",
       "  <thead>\n",
       "    <tr style=\"text-align: right;\">\n",
       "      <th></th>\n",
       "      <th>originator_full_name</th>\n",
       "      <th>beneficiary_full_name</th>\n",
       "      <th>originator_address</th>\n",
       "      <th>beneficiary_address</th>\n",
       "      <th>originator_account_number</th>\n",
       "      <th>beneficiary_account_number</th>\n",
       "      <th>originator_country</th>\n",
       "      <th>beneficiary_country</th>\n",
       "      <th>originator_bic</th>\n",
       "      <th>beneficiary_bic</th>\n",
       "      <th>amount</th>\n",
       "      <th>converted_transaction_currency</th>\n",
       "      <th>transaction_id</th>\n",
       "      <th>transaction_date</th>\n",
       "    </tr>\n",
       "    <tr>\n",
       "      <th>transaction_date</th>\n",
       "      <th></th>\n",
       "      <th></th>\n",
       "      <th></th>\n",
       "      <th></th>\n",
       "      <th></th>\n",
       "      <th></th>\n",
       "      <th></th>\n",
       "      <th></th>\n",
       "      <th></th>\n",
       "      <th></th>\n",
       "      <th></th>\n",
       "      <th></th>\n",
       "      <th></th>\n",
       "      <th></th>\n",
       "    </tr>\n",
       "  </thead>\n",
       "  <tbody>\n",
       "    <tr>\n",
       "      <th>2021-01</th>\n",
       "      <td>0</td>\n",
       "      <td>0</td>\n",
       "      <td>5</td>\n",
       "      <td>5</td>\n",
       "      <td>5</td>\n",
       "      <td>5</td>\n",
       "      <td>0</td>\n",
       "      <td>0</td>\n",
       "      <td>5</td>\n",
       "      <td>5</td>\n",
       "      <td>5</td>\n",
       "      <td>5</td>\n",
       "      <td>5</td>\n",
       "      <td>5</td>\n",
       "    </tr>\n",
       "    <tr>\n",
       "      <th>2021-02</th>\n",
       "      <td>998</td>\n",
       "      <td>998</td>\n",
       "      <td>1989</td>\n",
       "      <td>1989</td>\n",
       "      <td>991</td>\n",
       "      <td>991</td>\n",
       "      <td>0</td>\n",
       "      <td>0</td>\n",
       "      <td>1989</td>\n",
       "      <td>1989</td>\n",
       "      <td>1989</td>\n",
       "      <td>1989</td>\n",
       "      <td>1989</td>\n",
       "      <td>1989</td>\n",
       "    </tr>\n",
       "    <tr>\n",
       "      <th>2021-03</th>\n",
       "      <td>1</td>\n",
       "      <td>1</td>\n",
       "      <td>4</td>\n",
       "      <td>4</td>\n",
       "      <td>3</td>\n",
       "      <td>3</td>\n",
       "      <td>0</td>\n",
       "      <td>0</td>\n",
       "      <td>4</td>\n",
       "      <td>4</td>\n",
       "      <td>4</td>\n",
       "      <td>4</td>\n",
       "      <td>4</td>\n",
       "      <td>4</td>\n",
       "    </tr>\n",
       "  </tbody>\n",
       "</table>\n",
       "</div>"
      ],
      "text/plain": [
       "                  originator_full_name  beneficiary_full_name  \\\n",
       "transaction_date                                                \n",
       "2021-01                              0                      0   \n",
       "2021-02                            998                    998   \n",
       "2021-03                              1                      1   \n",
       "\n",
       "                  originator_address  beneficiary_address  \\\n",
       "transaction_date                                            \n",
       "2021-01                            5                    5   \n",
       "2021-02                         1989                 1989   \n",
       "2021-03                            4                    4   \n",
       "\n",
       "                  originator_account_number  beneficiary_account_number  \\\n",
       "transaction_date                                                          \n",
       "2021-01                                   5                           5   \n",
       "2021-02                                 991                         991   \n",
       "2021-03                                   3                           3   \n",
       "\n",
       "                  originator_country  beneficiary_country  originator_bic  \\\n",
       "transaction_date                                                            \n",
       "2021-01                            0                    0               5   \n",
       "2021-02                            0                    0            1989   \n",
       "2021-03                            0                    0               4   \n",
       "\n",
       "                  beneficiary_bic  amount  converted_transaction_currency  \\\n",
       "transaction_date                                                            \n",
       "2021-01                         5       5                               5   \n",
       "2021-02                      1989    1989                            1989   \n",
       "2021-03                         4       4                               4   \n",
       "\n",
       "                  transaction_id  transaction_date  \n",
       "transaction_date                                    \n",
       "2021-01                        5                 5  \n",
       "2021-02                     1989              1989  \n",
       "2021-03                        4                 4  "
      ]
     },
     "execution_count": 15,
     "metadata": {},
     "output_type": "execute_result"
    }
   ],
   "source": [
    "# Data for Selected File\n",
    "quarter_count = res_data1.groupby([(pd.DatetimeIndex(res_data1.transaction_date).to_period(\"M\"))]).count()  \n",
    "#see count of each per month in quarter\n",
    "quarter_count\n",
    "\n",
    "# see how many missing values are present in each field to make further assumptions\n",
    "# "
   ]
  },
  {
   "cell_type": "code",
   "execution_count": 16,
   "id": "16a9c77c",
   "metadata": {},
   "outputs": [],
   "source": [
    "# freeing memory once the values are no longer required.\n",
    "\n",
    "del quarter_count\n",
    "del quarter_sum\n",
    "del quarter_median\n",
    "del quarter_min\n",
    "del quarter_max"
   ]
  },
  {
   "cell_type": "code",
   "execution_count": 17,
   "id": "edc9c7e8",
   "metadata": {},
   "outputs": [],
   "source": [
    "#\n",
    "#  Metrics for risk assesment: Task 3\n",
    "# \n",
    "# Transaction limit 10,000 per day\n",
    "# unique customer sending round amounts.\n",
    "# transaction just below daily limit\n",
    "# details of full name , acc num, address and country are present\n",
    "# country present or not in address or seprately to screen and monitor\n",
    "# \n",
    "#\n",
    "# \n",
    "#\n",
    "#\n",
    "#"
   ]
  },
  {
   "cell_type": "code",
   "execution_count": 18,
   "id": "5f8af35d",
   "metadata": {},
   "outputs": [],
   "source": [
    "res_data2 = res_data1\n",
    "del res_data1    \n",
    "\n",
    "# keeping 1 file in memory"
   ]
  },
  {
   "cell_type": "code",
   "execution_count": 66,
   "id": "4a4cd34b",
   "metadata": {},
   "outputs": [],
   "source": [
    "# conditions set based on assumptions after reading the wolfsberg-principles pdf\n",
    "# \n",
    "\n",
    "of_per = [] #originator full name analysis \n",
    "\n",
    "# if present and unique value = 0.6   \n",
    "# if present and duplicate values = 0.2\n",
    "# if no present = 0.5                 Full name essential\n",
    "\n",
    "ofulname = res_data2['originator_full_name'].dropna() # just get all originators\n",
    "\n",
    "origin_fulname_duplicates = [item for item, count in collections.Counter(ofulname).items() if count > 1]\n",
    "# get customers who have made payments more than 1 time in this quarter\n",
    "\n",
    "temp_fulname = res_data2.originator_full_name.fillna('empty_string') # generating calculatable valuse for originator full name\n",
    "\n",
    "for i in range(0, len(temp_fulname)):\n",
    "    if temp_fulname[i] == 'empty_string':\n",
    "        of_per.append('0.5')\n",
    "    if (temp_fulname[i] != 'empty_string' and temp_fulname[i]  not in str(origin_fulname_duplicates)):\n",
    "        of_per.append('0.6')\n",
    "    if temp_fulname[i] in str(origin_fulname_duplicates):\n",
    "        of_per.append('0.2')\n",
    "        \n",
    "bf_per = [] #benificiary full name analysis\n",
    "\n",
    "# if present and unique value = 0.6   \n",
    "# if present and duplicate values = 0.2\n",
    "# if no present = 0.5                  Full name essential\n",
    "\n",
    "ofulname = res_data2['beneficiary_full_name'].dropna() # just get all originators\n",
    "\n",
    "origin_fulname_duplicates = [item for item, count in collections.Counter(ofulname).items() if count > 1]\n",
    "# get customers who have made payments more than 1 time in this quarter\n",
    "\n",
    "temp_fulname = res_data2.originator_full_name.fillna('empty_string') # generating calculatable valuse for originator full name\n",
    "\n",
    "for i in range(0, len(temp_fulname)):\n",
    "    if temp_fulname[i] == 'empty_string':\n",
    "        bf_per.append('0.5')\n",
    "    if (temp_fulname[i] != 'empty_string' and temp_fulname[i]  not in str(origin_fulname_duplicates)):\n",
    "        bf_per.append('0.6')\n",
    "    if temp_fulname[i] in str(origin_fulname_duplicates):\n",
    "        bf_per.append('0.2')\n",
    "\n",
    "oa_per = [] # address analysis\n",
    "ba_per = [] #\n",
    "\n",
    "# if present and unique value : 0.75\n",
    "# if present and duplicate value > 1 : 0.3  multiple times used address \n",
    "# if not present : 1   cant track address\n",
    "\n",
    "oadrs = res_data2['originator_address'].dropna() # get all address of orgin and benifi\n",
    "badrs = res_data2['beneficiary_address'].dropna() # \n",
    "\n",
    "oadrs_dup = [item for item, count in collections.Counter(oadrs).items() if count > 1] # get address repeated \n",
    "badrs_dup = [item for item, count in collections.Counter(badrs).items() if count > 1] # more than 1  \n",
    "\n",
    "temp_oadrs = res_data2.originator_address.fillna('empty_string')  #fill blanks with empty string.\n",
    "temp_badrs = res_data2.beneficiary_address.fillna('empty_string')\n",
    "\n",
    "for i in range(0, len(temp_oadrs)):\n",
    "    if temp_oadrs[i] == 'empty_string':\n",
    "        oa_per.append('1')\n",
    "    if ( temp_oadrs[i] != 'empty_string' and temp_oadrs[i] not in str(oadrs_dup)):\n",
    "        oa_per.append('0.75')\n",
    "    if temp_oadrs[i] in str(oadrs_dup):\n",
    "        oa_per.append('0.3')\n",
    "\n",
    "for i in range(0, len(temp_badrs)):\n",
    "    if temp_badrs[i] == 'empty_string':\n",
    "        ba_per.append('1')\n",
    "    if ( temp_badrs[i] != 'empty_string' and temp_badrs[i] not in str(badrs_dup)):\n",
    "        ba_per.append('0.75')\n",
    "    if temp_badrs[i] in str(oadrs_dup):\n",
    "        ba_per.append('0.3')\n",
    "\n",
    "\n",
    "oacn_per = [] # acc num analysis\n",
    "bacn_per = [] # \n",
    "\n",
    "# if present and unique : 0.2        # unique ac nos : since every one gets unique acc numbers\n",
    "# if present and more than 1 duplicate : 0.5   #frequent ac nos used, who does more transactions\n",
    "# if not presenet : 1      # no account number where then?\n",
    "\n",
    "oacn = res_data2['originator_account_number'].dropna() # get all acc numbers\n",
    "bacn = res_data2['beneficiary_account_number'].dropna()\n",
    "\n",
    "oacn_dup = [item for item, count in collections.Counter(oacn).items() if count > 1] # get acc number repeated more than 1 times\n",
    "bacn_dup = [item for item, count in collections.Counter(bacn).items() if count > 1]\n",
    "\n",
    "temp_oacn = res_data2.originator_account_number.fillna('empty_string') # fill empty with empty_string\n",
    "temp_bacn = res_data2.originator_account_number.fillna('empty_string')\n",
    "\n",
    "for i in range(0, len(temp_oacn)):\n",
    "    if temp_oacn[i] == 'empty_string':\n",
    "        oacn_per.append('1')\n",
    "    if ( temp_oacn[i] != 'empty_string' and temp_oacn[i] not in oacn_dup):\n",
    "        oacn_per.append('0.2')\n",
    "    if temp_oacn[i] in oacn_dup:\n",
    "        oacn_per.append('0.5')\n",
    "        \n",
    "for i in range(0, len(temp_bacn)):\n",
    "    if temp_bacn[i] == 'empty_string':\n",
    "        bacn_per.append('1')\n",
    "    if ( temp_bacn[i] != 'empty_string' and temp_bacn[i] not in bacn_dup):\n",
    "        bacn_per.append('0.2')\n",
    "    if temp_bacn[i] in bacn_dup:\n",
    "        bacn_per.append('0.5')\n",
    "        \n",
    "octry_per = [] # country analysis\n",
    "bctry_per = []\n",
    "\n",
    "#\n",
    "# if present : 0 safe to screen from which to which country money goes\n",
    "# if not present : 1 to screen and monitor Flag \n",
    "\n",
    "octry = res_data2['originator_country'].dropna() # get all acc numbers\n",
    "bctry = res_data2['beneficiary_country'].dropna() \n",
    "\n",
    "temp_octry = res_data2.originator_country.fillna('empty_string')\n",
    "temp_bctry = res_data2.beneficiary_country.fillna('empty_string')\n",
    "\n",
    "for i in range ( 0, len(temp_octry)):\n",
    "    if temp_octry[i] == 'empty_string':\n",
    "        octry_per.append('1')\n",
    "    if temp_octry[i] in octry:\n",
    "        octry_per.append('0')\n",
    "\n",
    "for i in range ( 0, len(temp_bctry)):\n",
    "    if temp_bctry[i] == 'empty_string':\n",
    "        bctry_per.append('1')\n",
    "    if temp_bctry[i] in bctry:\n",
    "        bctry_per.append('0')\n",
    "        \n",
    "obic_per = []  # BIC analysis\n",
    "bbic_per = []\n",
    "\n",
    "# if present 0\n",
    "# if not then 1   as if customer name and is not present then bic gives info abt name and adress as per Wolfe.. pdf\n",
    "\n",
    "obic = res_data2['originator_bic'].dropna() # get all acc numbers\n",
    "bbic = res_data2['beneficiary_bic'].dropna() \n",
    "\n",
    "temp_obic = res_data2.originator_bic.fillna('empty_string')\n",
    "temp_bbic = res_data2.beneficiary_bic.fillna('empty_string')\n",
    "\n",
    "for i in range ( 0, len(temp_obic)):\n",
    "    if temp_obic[i] == 'empty_string':\n",
    "        obic_per.append('1')\n",
    "    if temp_obic[i] in str(obic):\n",
    "        obic_per.append('0')\n",
    "\n",
    "for i in range ( 0, len(temp_bbic)):\n",
    "    if temp_bbic[i] == 'empty_string':\n",
    "        bbic_per.append('1')\n",
    "    if temp_bbic[i] in str(bbic):\n",
    "        bbic_per.append('0')\n",
    "\n",
    "amt_per = [] # amount analysis\n",
    "\n",
    "# floating amount number not near to daily threshold above or below or not too huge :  0.1 \n",
    "# rounded figure (in multiples of 10 )  :  0.85\n",
    "# transaction just below daily limit (set = 10,000 EUR threshold -1000):  0.9\n",
    "# huge money transfer of unreasonable amount : 0.8   eg: 10000000 and more\n",
    "\n",
    "amt = res_data2['amount'].dropna() # get all amount values\n",
    "\n",
    "temp_amt = res_data2.amount.fillna('empty_string') # fill if no amount was transferred.\n",
    "\n",
    "for i in range(0, len(temp_amt)):\n",
    "    if (type(temp_amt[i]) == int) and (temp_amt[i]%10 == 0):\n",
    "        amt_per.append('0.9')\n",
    "    if ( type(temp_amt[i]) != int) and (temp_amt[i] >= 9000 and temp_amt[i]<= 10000):\n",
    "        amt_per.append('0.9')\n",
    "    if (type(temp_amt[i]) != int ) and (temp_amt[i] < 9000) or (temp_amt[i] > 10000 and temp_amt[i] <= 10000000 ):\n",
    "        amt_per.append('0.1')\n",
    "    if (type(temp_amt[i]) != int ) and temp_amt[i] > 10000000 :\n",
    "        amt_per.append('0.8')\n",
    "\n",
    "        \n",
    "tid_per = [] # transaction id analysis\n",
    "\n",
    "# if exist 0\n",
    "# if not exist 0.3  : \n",
    "\n",
    "temp_tid = res_data2.transaction_id.fillna('empty_string') \n",
    "\n",
    "for i in range( 0, len(temp_tid)):\n",
    "    if temp_tid[i] == 'empty_string':\n",
    "        tid_per.append('0.3')\n",
    "    else:\n",
    "        tid_per.append('0')\n",
    "\n",
    "tdt_per = [] # transac dates\n",
    "\n",
    "# if multipe same days transaction then 0.3 #many transact in one day\n",
    "# if unique day transaction then 0.3  only one transact on that day\n",
    "# if absent then : 0.6  if date is absent\n",
    "#\n",
    "\n",
    "tdt = res_data2['transaction_date'].dropna() #get all dates\n",
    "\n",
    "temp_tdt = res_data2.transaction_date.fillna('empty_string') #get all values including blank date if any\n",
    "\n",
    "tdt_dup = [item for item, count in collections.Counter(tdt).items() if count > 5] \n",
    "# similar days greater than 5 to see how many\n",
    "# transaction in that day.\n",
    "\n",
    "for i in range(0, len(temp_tdt)):\n",
    "    if temp_tdt[i] == 'empty_string':\n",
    "        tdt_per.append('0.6')\n",
    "    if ( temp_tdt[i] != 'empty_string' and temp_tdt[i] not in tdt_dup):\n",
    "        tdt_per.append('0.3')\n",
    "    if temp_tdt[i] in tdt_dup:\n",
    "        tdt_per.append('0.3')"
   ]
  },
  {
   "cell_type": "code",
   "execution_count": 67,
   "id": "0caccdd9",
   "metadata": {},
   "outputs": [],
   "source": [
    "# creating dataframe based on analysis results.\n",
    "\n",
    "analysis_list = {'o_name':of_per ,'b_name': bf_per,'o_a':oa_per ,'b_a':ba_per ,'o_acn': oacn_per,\n",
    "                 'b_acn': bacn_per ,'o_ctry': octry_per,'b_ctry':bctry_per ,'o_bic': obic_per,'b_bic': bbic_per,\n",
    "                 'amt': amt_per,'t_id': tid_per ,'t_dt': tdt_per}\n",
    "\n",
    "data_frame_analysis = pd.DataFrame(analysis_list)\n",
    "\n",
    "data_frame_analysis = data_frame_analysis.apply(pd.to_numeric)  \n",
    "# will help to calc the t_risk column for orgini and benificary \n",
    "#to calc perfomance for the bic for the quarter. "
   ]
  },
  {
   "cell_type": "code",
   "execution_count": 70,
   "id": "4922675c",
   "metadata": {},
   "outputs": [],
   "source": [
    "data_frame_analysis['t_risk'] = ((data_frame_analysis.o_name + data_frame_analysis.b_name + data_frame_analysis.o_a +\n",
    "                                data_frame_analysis.b_a + data_frame_analysis.o_acn + data_frame_analysis.b_acn +\n",
    "                                data_frame_analysis.o_ctry + data_frame_analysis.b_ctry + data_frame_analysis.o_bic +\n",
    "                                data_frame_analysis.b_bic + data_frame_analysis.amt)/11 )\n",
    "\n",
    "# total risk factor 0 - 1  \n",
    "\n",
    "data_frame_analysis['ot_risk'] = ((data_frame_analysis.o_name + data_frame_analysis.o_a +\n",
    "                                  data_frame_analysis.o_ctry + data_frame_analysis.o_acn +\n",
    "                                  data_frame_analysis.amt + data_frame_analysis.o_bic\n",
    "                                  ) / 6)\n",
    "\n",
    "# originator risk factor\n",
    "\n",
    "data_frame_analysis['bt_risk'] = ((data_frame_analysis.b_name + data_frame_analysis.b_a +\n",
    "                                  data_frame_analysis.b_ctry + data_frame_analysis.b_acn +\n",
    "                                  data_frame_analysis.amt + data_frame_analysis.b_bic\n",
    "                                  ) / 6)\n",
    "# benificary risk factor\n",
    "\n",
    "#generating factor of possible risk or not. (can also change it but for simplicity using this for now)\n",
    "\n",
    "data_frame_analysis['t_label'] = round(data_frame_analysis.t_risk,0)\n",
    "# making a metric column that can help in perfomance calculation, predection, etc"
   ]
  },
  {
   "cell_type": "code",
   "execution_count": 71,
   "id": "5e137339",
   "metadata": {},
   "outputs": [
    {
     "data": {
      "image/png": "[encoded data removed]",
      "text/plain": [
       "<Figure size 432x288 with 1 Axes>"
      ]
     },
     "metadata": {
      "needs_background": "light"
     },
     "output_type": "display_data"
    }
   ],
   "source": [
    "sns.countplot(x = 't_label', data = data_frame_analysis, palette = 'hls' )\n",
    "plt.show()\n",
    "\n",
    "# see how the label field generated is doing.\n",
    "# 1 has something wrong in transaction\n",
    "# 0 okay ish transactions."
   ]
  },
  {
   "cell_type": "code",
   "execution_count": 72,
   "id": "f45d1e51",
   "metadata": {},
   "outputs": [
    {
     "name": "stdout",
     "output_type": "stream",
     "text": [
      " bic perfomance for selected quarter is --- originator bic perfomance =  51.8 %   --- benificiary bic perf =  51.0 %\n"
     ]
    }
   ],
   "source": [
    "# proceeding with perfomance and ranking.\n",
    "# make query for bank3xxx and bank4xxx to generate their respective ranks\n",
    "#  \n",
    "# \n",
    "# \n",
    "# \n",
    "\n",
    "o_bic_per = round((data_frame_analysis['ot_risk'].sum())/ len(data_frame_analysis.ot_risk),3) * 100\n",
    "\n",
    "b_bic_per = round((data_frame_analysis['bt_risk'].sum())/ len(data_frame_analysis.bt_risk),3) * 100\n",
    "\n",
    "print(' bic perfomance for selected quarter is --- originator bic perfomance = ', \n",
    "      round(o_bic_per,2),'%', '  --- benificiary bic perf = ',round(b_bic_per,2),'%')\n",
    "\n",
    "# see for given quarter which bic perfomance was better\n",
    "# ranking the 2 bics that were there\n",
    "# which ever is less is better."
   ]
  },
  {
   "cell_type": "code",
   "execution_count": 73,
   "id": "406b4c7c",
   "metadata": {},
   "outputs": [],
   "source": [
    "# get monthly perfomance of originator and benificary, bics\n",
    "\n",
    "res_data2['t_risk'] = data_frame_analysis.t_risk\n",
    "res_data2['ot_risk'] = data_frame_analysis.ot_risk\n",
    "res_data2['bt_risk'] = data_frame_analysis.bt_risk\n",
    "\n",
    "perf_bic_monthly = round(res_data2.groupby([(pd.DatetimeIndex(res_data2.transaction_date).to_period(\"M\"))]).sum()/len(res_data2.ot_risk) *100,3)\n",
    "\n",
    "#"
   ]
  },
  {
   "cell_type": "code",
   "execution_count": 74,
   "id": "39396430",
   "metadata": {},
   "outputs": [],
   "source": [
    "columns1 = ['originator_account_number', 'beneficiary_account_number', 'amount','transaction_id']\n",
    "perf_bic_monthly.drop(columns1, inplace=True, axis=1)"
   ]
  },
  {
   "cell_type": "code",
   "execution_count": 75,
   "id": "137af122",
   "metadata": {},
   "outputs": [],
   "source": [
    "# combining to view data comfortable. \n",
    "# \n",
    "quarter_count = res_data2.groupby([(pd.DatetimeIndex(res_data2.transaction_date).to_period(\"M\"))]).count()  \n",
    "#\n",
    "perf_bic_monthly['count_o_name'] = quarter_count.originator_full_name\n",
    "perf_bic_monthly['count_b_name'] = quarter_count.beneficiary_full_name\n",
    "perf_bic_monthly['count_o_adr'] = quarter_count.originator_address\n",
    "perf_bic_monthly['count_b_adr'] = quarter_count.beneficiary_address\n",
    "perf_bic_monthly['count_o_acn'] = quarter_count.originator_account_number\n",
    "perf_bic_monthly['count_b_acn'] = quarter_count.beneficiary_account_number\n",
    "perf_bic_monthly['count_o_ctry'] = quarter_count.originator_country\n",
    "perf_bic_monthly['count_b_ctry'] = quarter_count.beneficiary_country\n",
    "temp_gen_data = res_data2.groupby([(pd.DatetimeIndex(res_data2.transaction_date).to_period(\"M\"))]).sum()\n",
    "perf_bic_monthly['sum_amt'] = temp_gen_data.amount"
   ]
  },
  {
   "cell_type": "code",
   "execution_count": 76,
   "id": "f6e52df4",
   "metadata": {},
   "outputs": [],
   "source": [
    "del quarter_count\n",
    "# free memory"
   ]
  },
  {
   "cell_type": "code",
   "execution_count": null,
   "id": "81baa8d4",
   "metadata": {},
   "outputs": [],
   "source": [
    "# \n",
    "# Yearly result divided\n",
    "# transactionon_date : YEAR and MONTH \n",
    "# ot_risk : originator transaction risk in %\n",
    "# bt_risk : benificiary transaction risk in %\n",
    "# t_risk : overall transaction risk in %\n",
    "# count_o_name : number of originator in particular file\n",
    "# count_b_name : number of benificiary in particular file\n",
    "# count_o_adr : number of originator address in particular file\n",
    "# count_b_adr : number of benificiary address in particular file\n",
    "# count_o_acn : number of originator account number in particular file\n",
    "# count_b_acn : number of benificiary account number in particular file\n",
    "# count_o_ctry : number of originator country in particular file\n",
    "# count_b_ctry : number of benificiary country in particular file\n",
    "# sum_amt : total amount transaction done\n",
    "# "
   ]
  },
  {
   "cell_type": "code",
   "execution_count": 77,
   "id": "a6ab9c8e",
   "metadata": {},
   "outputs": [
    {
     "data": {
      "text/html": [
       "<div>\n",
       "<style scoped>\n",
       "    .dataframe tbody tr th:only-of-type {\n",
       "        vertical-align: middle;\n",
       "    }\n",
       "\n",
       "    .dataframe tbody tr th {\n",
       "        vertical-align: top;\n",
       "    }\n",
       "\n",
       "    .dataframe thead th {\n",
       "        text-align: right;\n",
       "    }\n",
       "</style>\n",
       "<table border=\"1\" class=\"dataframe\">\n",
       "  <thead>\n",
       "    <tr style=\"text-align: right;\">\n",
       "      <th></th>\n",
       "      <th>ot_risk</th>\n",
       "      <th>bt_risk</th>\n",
       "      <th>t_risk</th>\n",
       "      <th>count_o_name</th>\n",
       "      <th>count_b_name</th>\n",
       "      <th>count_o_adr</th>\n",
       "      <th>count_b_adr</th>\n",
       "      <th>count_o_acn</th>\n",
       "      <th>count_b_acn</th>\n",
       "      <th>count_o_ctry</th>\n",
       "      <th>count_b_ctry</th>\n",
       "      <th>sum_amt</th>\n",
       "    </tr>\n",
       "    <tr>\n",
       "      <th>transaction_date</th>\n",
       "      <th></th>\n",
       "      <th></th>\n",
       "      <th></th>\n",
       "      <th></th>\n",
       "      <th></th>\n",
       "      <th></th>\n",
       "      <th></th>\n",
       "      <th></th>\n",
       "      <th></th>\n",
       "      <th></th>\n",
       "      <th></th>\n",
       "      <th></th>\n",
       "    </tr>\n",
       "  </thead>\n",
       "  <tbody>\n",
       "    <tr>\n",
       "      <th>2021-01</th>\n",
       "      <td>0.116</td>\n",
       "      <td>0.114</td>\n",
       "      <td>0.123</td>\n",
       "      <td>0</td>\n",
       "      <td>0</td>\n",
       "      <td>5</td>\n",
       "      <td>5</td>\n",
       "      <td>5</td>\n",
       "      <td>5</td>\n",
       "      <td>0</td>\n",
       "      <td>0</td>\n",
       "      <td>302128.63</td>\n",
       "    </tr>\n",
       "    <tr>\n",
       "      <th>2021-02</th>\n",
       "      <td>51.543</td>\n",
       "      <td>50.765</td>\n",
       "      <td>54.783</td>\n",
       "      <td>998</td>\n",
       "      <td>998</td>\n",
       "      <td>1989</td>\n",
       "      <td>1989</td>\n",
       "      <td>991</td>\n",
       "      <td>991</td>\n",
       "      <td>0</td>\n",
       "      <td>0</td>\n",
       "      <td>91849270.57</td>\n",
       "    </tr>\n",
       "    <tr>\n",
       "      <th>2021-03</th>\n",
       "      <td>0.098</td>\n",
       "      <td>0.095</td>\n",
       "      <td>0.103</td>\n",
       "      <td>1</td>\n",
       "      <td>1</td>\n",
       "      <td>4</td>\n",
       "      <td>4</td>\n",
       "      <td>3</td>\n",
       "      <td>3</td>\n",
       "      <td>0</td>\n",
       "      <td>0</td>\n",
       "      <td>150734.99</td>\n",
       "    </tr>\n",
       "  </tbody>\n",
       "</table>\n",
       "</div>"
      ],
      "text/plain": [
       "                  ot_risk  bt_risk  t_risk  count_o_name  count_b_name  \\\n",
       "transaction_date                                                         \n",
       "2021-01             0.116    0.114   0.123             0             0   \n",
       "2021-02            51.543   50.765  54.783           998           998   \n",
       "2021-03             0.098    0.095   0.103             1             1   \n",
       "\n",
       "                  count_o_adr  count_b_adr  count_o_acn  count_b_acn  \\\n",
       "transaction_date                                                       \n",
       "2021-01                     5            5            5            5   \n",
       "2021-02                  1989         1989          991          991   \n",
       "2021-03                     4            4            3            3   \n",
       "\n",
       "                  count_o_ctry  count_b_ctry      sum_amt  \n",
       "transaction_date                                           \n",
       "2021-01                      0             0    302128.63  \n",
       "2021-02                      0             0  91849270.57  \n",
       "2021-03                      0             0    150734.99  "
      ]
     },
     "execution_count": 77,
     "metadata": {},
     "output_type": "execute_result"
    }
   ],
   "source": [
    "perf_bic_monthly  # see generated result. Task 1 and 2 ot_risk and bt_risk in percentage values (lower the better.)"
   ]
  },
  {
   "cell_type": "code",
   "execution_count": 183,
   "id": "0794ad2f",
   "metadata": {},
   "outputs": [],
   "source": [
    "path_result = path_CSV_1[choice1] + \"\\\\\" + name_CSV_1[choice1]\n",
    "\n",
    "blank_1 = ['  '] # create space before we put result in the file for selected quarter\n",
    "\n",
    "with open(path_result, 'a') as f_object: \n",
    "    writer_object = writer(f_object)\n",
    "    for i in range (0, 3):\n",
    "        writer_object.writerow(blank_1)\n",
    "    f_object.close()"
   ]
  },
  {
   "cell_type": "code",
   "execution_count": 184,
   "id": "ddfa5e23",
   "metadata": {},
   "outputs": [],
   "source": [
    "perf_bic_monthly.to_csv(path_result, mode = 'a', index = True, header = True) # Task 3 over"
   ]
  },
  {
   "cell_type": "code",
   "execution_count": 185,
   "id": "915bc756",
   "metadata": {},
   "outputs": [],
   "source": [
    "del res_data2\n",
    "# del data_frame_analysis   # can keep for further use or can delete it"
   ]
  },
  {
   "cell_type": "code",
   "execution_count": null,
   "id": "51fe6617",
   "metadata": {},
   "outputs": [],
   "source": [
    "# possible next month risk for bic calculation.\n",
    "# used moving average here as its simple.\n",
    "# bonus part 1 \n",
    "# \n",
    "# \n",
    "\n",
    "obic_next_month_perf = perf_bic_monthly.ot_risk.mean() #originating bic perf\n",
    "bbic_next_month_perf = perf_bic_monthly.bt_risk.mean() # benificiary bic perf\n",
    "t_bic_risk_next_month_perf = perf_bic_monthly.t_risk.mean() # total of both  origin or benificary\n",
    "\n",
    "print(' Next month possible bic perfomance')\n",
    "print(' Origin_BIC : - ',round(obic_next_month_perf,2),'%')\n",
    "print(' Benific_BIC : - ',round(bbic_next_month_perf,2),'%')\n",
    "print(' Total_BIC : - ',round(t_bic_risk_next_month_perf,2),'%')"
   ]
  },
  {
   "cell_type": "code",
   "execution_count": 186,
   "id": "91bdbd31",
   "metadata": {},
   "outputs": [
    {
     "data": {
      "text/plain": [
       "LogisticRegression()"
      ]
     },
     "execution_count": 186,
     "metadata": {},
     "output_type": "execute_result"
    }
   ],
   "source": [
    "# model generation to check metrics set \n",
    "# will vary depending on what we have set in metrics\n",
    "\n",
    "feature_cols = ['o_name','b_name','o_a','b_a','o_acn','b_acn','o_ctry','b_ctry','amt','o_bic','b_bic','t_id','t_dt']\n",
    "\n",
    "X = data_frame_analysis[feature_cols] # assigining feature values\n",
    "Y = data_frame_analysis.t_label\n",
    "\n",
    "X_train,X_test,Y_train,Y_test = train_test_split(X , Y, test_size=0.30,random_state=0) # divide in train:test , 70:30\n",
    "\n",
    "logreg = LogisticRegression()  # model logreg created\n",
    "\n",
    "logreg.fit(X_train,Y_train) # fit model with data"
   ]
  },
  {
   "cell_type": "code",
   "execution_count": 187,
   "id": "4e90b3d8",
   "metadata": {},
   "outputs": [],
   "source": [
    "Y_pred = logreg.predict(X_test) # \n",
    "# Y_probas = logreg.predict_proba(X_test) #\n",
    "# Y_pred = [1 if i > 0.65 else 0 for i in Y_probas] #"
   ]
  },
  {
   "cell_type": "code",
   "execution_count": 188,
   "id": "39bcdf4c",
   "metadata": {},
   "outputs": [
    {
     "data": {
      "text/plain": [
       "array([[224,   0],\n",
       "       [  2, 374]], dtype=int64)"
      ]
     },
     "execution_count": 188,
     "metadata": {},
     "output_type": "execute_result"
    }
   ],
   "source": [
    "cnf_matrix = metrics.confusion_matrix(Y_test, Y_pred) # confusion matrix\n",
    "cnf_matrix"
   ]
  },
  {
   "cell_type": "code",
   "execution_count": 189,
   "id": "885decf2",
   "metadata": {},
   "outputs": [
    {
     "data": {
      "text/plain": [
       "Text(0.5, 15.0, 'Predicted label')"
      ]
     },
     "execution_count": 189,
     "metadata": {},
     "output_type": "execute_result"
    },
    {
     "data": {
      "image/png": "[encoded data removed]",
      "text/plain": [
       "<Figure size 432x288 with 2 Axes>"
      ]
     },
     "metadata": {
      "needs_background": "light"
     },
     "output_type": "display_data"
    }
   ],
   "source": [
    "class_names=[0,1] # name  of classes\n",
    "fig, ax = plt.subplots()\n",
    "tick_marks = np.arange(len(class_names))\n",
    "plt.xticks(tick_marks, class_names)\n",
    "plt.yticks(tick_marks, class_names)\n",
    "\n",
    "# create heatmap to see perfomance of model\n",
    "\n",
    "sns.heatmap(pd.DataFrame(cnf_matrix), annot=True, cmap=\"YlGnBu\" ,fmt='g')\n",
    "ax.xaxis.set_label_position(\"top\")\n",
    "\n",
    "plt.title('Confusion matrix')\n",
    "plt.ylabel('Actual label')\n",
    "plt.xlabel('Predicted label')"
   ]
  },
  {
   "cell_type": "code",
   "execution_count": 190,
   "id": "3ca06cb9",
   "metadata": {},
   "outputs": [
    {
     "name": "stdout",
     "output_type": "stream",
     "text": [
      "Accuracy: 0.9966666666666667\n",
      "Precision: 1.0\n",
      "Recall: 0.9946808510638298\n"
     ]
    }
   ],
   "source": [
    "print(\"Accuracy:\",metrics.accuracy_score(Y_test, Y_pred))\n",
    "print(\"Precision:\",metrics.precision_score(Y_test, Y_pred))\n",
    "print(\"Recall:\",metrics.recall_score(Y_test, Y_pred))\n",
    "\n",
    "# we get this because of practice data and whatever conditions we have set."
   ]
  },
  {
   "cell_type": "code",
   "execution_count": 179,
   "id": "187a21c7",
   "metadata": {},
   "outputs": [],
   "source": [
    "import gc\n",
    "gc.collect()"
   ]
  }
 ],
 "metadata": {
  "kernelspec": {
   "display_name": "Python 3",
   "language": "python",
   "name": "python3"
  },
  "language_info": {
   "codemirror_mode": {
    "name": "ipython",
    "version": 3
   },
   "file_extension": ".py",
   "mimetype": "text/x-python",
   "name": "python",
   "nbconvert_exporter": "python",
   "pygments_lexer": "ipython3",
   "version": "3.8.8"
  }
 },
 "nbformat": 4,
 "nbformat_minor": 5
}
